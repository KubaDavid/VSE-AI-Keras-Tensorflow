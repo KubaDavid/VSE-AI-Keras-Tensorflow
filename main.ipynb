{
  "nbformat": 4,
  "nbformat_minor": 0,
  "metadata": {
    "colab": {
      "provenance": [],
      "authorship_tag": "ABX9TyNYmjQd72JZiGMKKyYAP+h1",
      "include_colab_link": true
    },
    "kernelspec": {
      "name": "python3",
      "display_name": "Python 3"
    },
    "language_info": {
      "name": "python"
    }
  },
  "cells": [
    {
      "cell_type": "markdown",
      "metadata": {
        "id": "view-in-github",
        "colab_type": "text"
      },
      "source": [
        "<a href=\"https://colab.research.google.com/github/KubaDavid/VSE-AI/blob/main/main.ipynb\" target=\"_parent\"><img src=\"https://colab.research.google.com/assets/colab-badge.svg\" alt=\"Open In Colab\"/></a>"
      ]
    },
    {
      "cell_type": "markdown",
      "source": [
        "# Semestral work Keras and Tensor\n",
        "This is the last semestral work from VŠE AI 4IZ231\\\n",
        "@authors Kotzias et. al (2015) and Zamazal (2020)\\\n",
        "@editor Jakub David\n"
      ],
      "metadata": {
        "id": "XIdyQBktbE8m"
      }
    },
    {
      "cell_type": "code",
      "execution_count": null,
      "metadata": {
        "id": "ziVBg2XfX6N0"
      },
      "outputs": [],
      "source": [
        "# Semestral"
      ]
    },
    {
      "cell_type": "markdown",
      "source": [],
      "metadata": {
        "id": "aDKNwJFCbDit"
      }
    }
  ]
}