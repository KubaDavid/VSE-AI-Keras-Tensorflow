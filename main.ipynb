{
  "cells": [
    {
      "cell_type": "markdown",
      "metadata": {
        "colab_type": "text",
        "id": "view-in-github"
      },
      "source": [
        "<a href=\"https://colab.research.google.com/github/KubaDavid/VSE-AI/blob/main/main.ipynb\" target=\"_parent\"><img src=\"https://colab.research.google.com/assets/colab-badge.svg\" alt=\"Open In Colab\"/></a>"
      ]
    },
    {
      "cell_type": "markdown",
      "metadata": {
        "id": "XIdyQBktbE8m"
      },
      "source": [
        "# Semestral work Keras and Tensor\n",
        "This is the last semestral work from VŠE AI 4IZ231\\\n",
        "@authors Kotzias et. al (2015) and Zamazal (2020)\\\n",
        "@editor Jakub David\n"
      ]
    },
    {
      "cell_type": "code",
      "execution_count": 2,
      "metadata": {
        "id": "ziVBg2XfX6N0"
      },
      "outputs": [
        {
          "name": "stdout",
          "output_type": "stream",
          "text": [
            "(1000,)\n",
            "(1000,)\n",
            "And the sound quality is great.:1\n"
          ]
        }
      ],
      "source": [
        "# Reading data\n",
        "\n",
        "import pandas as pd\n",
        "\n",
        "dfAmazon = pd.read_csv('amazon_cells_labelled.csv', names=['sentence', 'label'], sep='\\t')\n",
        "\n",
        "sentences = dfAmazon['sentence'].values\n",
        "\n",
        "labels = dfAmazon['label'].values\n",
        "labels = labels.astype(int)\n",
        "\n",
        "\n",
        "# Checking the data format\n",
        "print(sentences.shape)\n",
        "print(labels.shape)\n",
        "print(\"{}:{}\".format(sentences[10], labels[10]))"
      ]
    },
    {
      "cell_type": "code",
      "execution_count": 3,
      "metadata": {},
      "outputs": [
        {
          "name": "stdout",
          "output_type": "stream",
          "text": [
            "(600,)\n",
            "(600,)\n",
            "It lasts less than 3o minutes, if I actually try to use the phone.My wife has the same phone with the same problem.:0\n",
            "(150,)\n",
            "(150,)\n",
            "The cable looks so thin and flimsy, it is scary.:0\n",
            "(250,)\n",
            "(250,)\n",
            "Disappointing accessory from a good manufacturer.:0\n"
          ]
        }
      ],
      "source": [
        "# Dividing to train, test and validation datasets\n",
        "\n",
        "from sklearn.model_selection import train_test_split\n",
        "\n",
        "sentences_train, sentences_test, labels_train, labels_test = train_test_split(sentences, labels, test_size=0.25, random_state=1000)\n",
        "sentences_train, sentences_val, labels_train, labels_val = train_test_split(sentences_train, labels_train, test_size=0.2, random_state=1000)\n",
        "\n",
        "# Data check\n",
        "print(sentences_train.shape)\n",
        "print(labels_train.shape)\n",
        "print(\"{}:{}\".format(sentences_train[9], labels_train[9]))\n",
        "print(sentences_val.shape)\n",
        "print(labels_val.shape)\n",
        "print(\"{}:{}\".format(sentences_val[9], labels_val[9]))\n",
        "print(sentences_test.shape)\n",
        "print(labels_test.shape)\n",
        "print(\"{}:{}\".format(sentences_test[9], labels_test[9]))"
      ]
    },
    {
      "cell_type": "code",
      "execution_count": 4,
      "metadata": {},
      "outputs": [
        {
          "name": "stdout",
          "output_type": "stream",
          "text": [
            "65\n",
            "518\n",
            "1029\n",
            "It lasts less than 3o minutes, if I actually try to use the phone.My wife has the same phone with the same problem.\n",
            "(600, 1352)\n",
            "  (0, 11)\t1\n",
            "  (0, 35)\t1\n",
            "  (0, 540)\t1\n",
            "  (0, 581)\t1\n",
            "  (0, 624)\t1\n",
            "  (0, 654)\t1\n",
            "  (0, 664)\t1\n",
            "  (0, 743)\t1\n",
            "  (0, 768)\t1\n",
            "  (0, 856)\t1\n",
            "  (0, 900)\t1\n",
            "  (0, 1001)\t1\n",
            "  (0, 1153)\t1\n",
            "  (0, 1156)\t1\n",
            "  (0, 1185)\t1\n",
            "  (0, 1212)\t1\n",
            "  (0, 1244)\t1\n",
            "  (0, 1312)\t1\n",
            "  (0, 1322)\t1\n",
            "(150, 1352)\n",
            "  (0, 65)\t1\n",
            "  (0, 178)\t1\n",
            "  (0, 466)\t1\n",
            "  (0, 622)\t1\n",
            "  (0, 624)\t1\n",
            "  (0, 687)\t1\n",
            "  (0, 1080)\t1\n",
            "  (0, 1156)\t1\n",
            "(250, 1352)\n",
            "  (0, 334)\t1\n",
            "  (0, 488)\t1\n",
            "  (0, 518)\t1\n"
          ]
        }
      ],
      "source": [
        "# Preprocessing into Bag of Words\n",
        "\n",
        "from sklearn.feature_extraction.text import CountVectorizer\n",
        "\n",
        "vectorizer = CountVectorizer(binary=True)\n",
        "vectorizer.fit(sentences_train)\n",
        "\n",
        "# Check\n",
        "print(vectorizer.vocabulary_['and'])\n",
        "print(vectorizer.vocabulary_['good'])\n",
        "print(vectorizer.vocabulary_['service'])\n",
        "print(sentences_train[9])\n",
        "\n",
        "X_train = vectorizer.transform(sentences_train)\n",
        "X_val = vectorizer.transform(sentences_val)\n",
        "X_test = vectorizer.transform(sentences_test)\n",
        "\n",
        "# Check\n",
        "print(X_train.shape)\n",
        "print(X_train[9, :])\n",
        "print(X_val.shape)\n",
        "print(X_val[9, :])\n",
        "print(X_test.shape)\n",
        "print(X_test[9, :])\n",
        "\n",
        "y_train = labels_train\n",
        "y_val = labels_val\n",
        "y_test = labels_test"
      ]
    },
    {
      "cell_type": "code",
      "execution_count": 5,
      "metadata": {},
      "outputs": [
        {
          "name": "stdout",
          "output_type": "stream",
          "text": [
            "1352\n",
            "WARNING:tensorflow:From c:\\Users\\jakub\\AppData\\Local\\Programs\\Python\\Python310\\lib\\site-packages\\keras\\src\\backend.py:873: The name tf.get_default_graph is deprecated. Please use tf.compat.v1.get_default_graph instead.\n",
            "\n",
            "WARNING:tensorflow:From c:\\Users\\jakub\\AppData\\Local\\Programs\\Python\\Python310\\lib\\site-packages\\keras\\src\\optimizers\\__init__.py:309: The name tf.train.Optimizer is deprecated. Please use tf.compat.v1.train.Optimizer instead.\n",
            "\n",
            "Model: \"sequential\"\n",
            "_________________________________________________________________\n",
            " Layer (type)                Output Shape              Param #   \n",
            "=================================================================\n",
            " dense (Dense)               (None, 10)                13530     \n",
            "                                                                 \n",
            " dense_1 (Dense)             (None, 1)                 11        \n",
            "                                                                 \n",
            "=================================================================\n",
            "Total params: 13541 (52.89 KB)\n",
            "Trainable params: 13541 (52.89 KB)\n",
            "Non-trainable params: 0 (0.00 Byte)\n",
            "_________________________________________________________________\n",
            "Model: \"sequential_1\"\n",
            "_________________________________________________________________\n",
            " Layer (type)                Output Shape              Param #   \n",
            "=================================================================\n",
            " dense_2 (Dense)             (None, 1)                 1353      \n",
            "                                                                 \n",
            "=================================================================\n",
            "Total params: 1353 (5.29 KB)\n",
            "Trainable params: 1353 (5.29 KB)\n",
            "Non-trainable params: 0 (0.00 Byte)\n",
            "_________________________________________________________________\n"
          ]
        }
      ],
      "source": [
        "# Convolution network\n",
        "import tensorflow as tf\n",
        "\n",
        "from keras.models import Sequential\n",
        "from keras import layers\n",
        "\n",
        "# Number of attributes\n",
        "input_dim = X_train.shape[1]\n",
        "print(input_dim)\n",
        "\n",
        "# Convolution network\n",
        "convolutionModel = Sequential()\n",
        "convolutionModel.add(layers.Dense(10, input_dim=input_dim, activation='relu'))\n",
        "convolutionModel.add(layers.Dense(1, activation='sigmoid'))\n",
        "convolutionModel.compile(loss='binary_crossentropy', optimizer='adam', metrics=['accuracy'])\n",
        "convolutionModel.summary()\n",
        "\n",
        "# Single layer network\n",
        "singleModel = Sequential()\n",
        "singleModel.add(layers.Dense(1, input_dim=input_dim, activation='sigmoid'))\n",
        "singleModel.compile(loss='binary_crossentropy', optimizer='adam', metrics=['accuracy'])\n",
        "singleModel.summary()"
      ]
    },
    {
      "cell_type": "code",
      "execution_count": 7,
      "metadata": {},
      "outputs": [
        {
          "name": "stdout",
          "output_type": "stream",
          "text": [
            "Epoch 1/10\n"
          ]
        },
        {
          "name": "stdout",
          "output_type": "stream",
          "text": [
            "60/60 [==============================] - 0s 3ms/step - loss: 0.1171 - accuracy: 0.9917 - val_loss: 0.4068 - val_accuracy: 0.8533\n",
            "Epoch 2/10\n",
            "60/60 [==============================] - 0s 2ms/step - loss: 0.0994 - accuracy: 0.9967 - val_loss: 0.4050 - val_accuracy: 0.8400\n",
            "Epoch 3/10\n",
            "60/60 [==============================] - 0s 2ms/step - loss: 0.0847 - accuracy: 0.9983 - val_loss: 0.4051 - val_accuracy: 0.8333\n",
            "Epoch 4/10\n",
            "60/60 [==============================] - 0s 2ms/step - loss: 0.0729 - accuracy: 0.9983 - val_loss: 0.4049 - val_accuracy: 0.8400\n",
            "Epoch 5/10\n",
            "60/60 [==============================] - 0s 2ms/step - loss: 0.0631 - accuracy: 0.9983 - val_loss: 0.4070 - val_accuracy: 0.8333\n",
            "Epoch 6/10\n",
            "60/60 [==============================] - 0s 2ms/step - loss: 0.0550 - accuracy: 0.9983 - val_loss: 0.4114 - val_accuracy: 0.8400\n",
            "Epoch 7/10\n",
            "60/60 [==============================] - 0s 2ms/step - loss: 0.0483 - accuracy: 1.0000 - val_loss: 0.4102 - val_accuracy: 0.8333\n",
            "Epoch 8/10\n",
            "60/60 [==============================] - 0s 2ms/step - loss: 0.0426 - accuracy: 1.0000 - val_loss: 0.4158 - val_accuracy: 0.8333\n",
            "Epoch 9/10\n",
            "60/60 [==============================] - 0s 2ms/step - loss: 0.0377 - accuracy: 1.0000 - val_loss: 0.4185 - val_accuracy: 0.8267\n",
            "Epoch 10/10\n",
            "60/60 [==============================] - 0s 2ms/step - loss: 0.0336 - accuracy: 1.0000 - val_loss: 0.4217 - val_accuracy: 0.8200\n",
            "Accuracy of convolution model on training data: 1.0000\n",
            "Correctness of the convolutional model on validation data: 0.8200\n",
            "Convolutional model loss function on validation data: 0.4217\n",
            "Epoch 1/10\n",
            "60/60 [==============================] - 1s 4ms/step - loss: 0.6879 - accuracy: 0.5683 - val_loss: 0.6788 - val_accuracy: 0.6133\n",
            "Epoch 2/10\n",
            "60/60 [==============================] - 0s 2ms/step - loss: 0.6640 - accuracy: 0.7100 - val_loss: 0.6663 - val_accuracy: 0.6867\n",
            "Epoch 3/10\n",
            "60/60 [==============================] - 0s 2ms/step - loss: 0.6412 - accuracy: 0.8083 - val_loss: 0.6551 - val_accuracy: 0.7133\n",
            "Epoch 4/10\n",
            "60/60 [==============================] - 0s 2ms/step - loss: 0.6197 - accuracy: 0.8533 - val_loss: 0.6435 - val_accuracy: 0.7400\n",
            "Epoch 5/10\n",
            "60/60 [==============================] - 0s 2ms/step - loss: 0.5995 - accuracy: 0.8750 - val_loss: 0.6339 - val_accuracy: 0.7333\n",
            "Epoch 6/10\n",
            "60/60 [==============================] - 0s 2ms/step - loss: 0.5801 - accuracy: 0.8900 - val_loss: 0.6235 - val_accuracy: 0.7267\n",
            "Epoch 7/10\n",
            "60/60 [==============================] - 0s 2ms/step - loss: 0.5618 - accuracy: 0.9133 - val_loss: 0.6144 - val_accuracy: 0.7467\n",
            "Epoch 8/10\n",
            "60/60 [==============================] - 0s 2ms/step - loss: 0.5450 - accuracy: 0.9167 - val_loss: 0.6057 - val_accuracy: 0.7600\n",
            "Epoch 9/10\n",
            "60/60 [==============================] - 0s 2ms/step - loss: 0.5284 - accuracy: 0.9300 - val_loss: 0.5975 - val_accuracy: 0.7667\n",
            "Epoch 10/10\n",
            "60/60 [==============================] - 0s 2ms/step - loss: 0.5132 - accuracy: 0.9333 - val_loss: 0.5898 - val_accuracy: 0.7667\n",
            "Correctness of the single-layer model on training data: 0.9433\n",
            "Correctness of the single-layer model on validation data: 0.7667\n",
            "Loss function of a single-layer model on validation data: 0.5898\n",
            "Correctness of the convolution model on test data: 0.8080\n",
            "Loss function of the convolution model on test data: 0.4497\n",
            "Správnost jednovrstvého modelu na testovacích datech: 0.9433\n",
            "Ztrátová funkce jednovrstvého modelu na testovacích datech: 0.5908\n"
          ]
        }
      ],
      "source": [
        "# Learning\n",
        "\n",
        "convolutionHistory = convolutionModel.fit(X_train, y_train, epochs=10, batch_size=10, validation_data=(X_val, y_val), verbose=True)\n",
        "\n",
        "# Evaluation of Convolution on training data\n",
        "convolutionTrainLoss, convolutionTrainAccuracy = convolutionModel.evaluate(X_train, y_train, verbose=False)\n",
        "print(\"Accuracy of convolution model on training data: {:.4f}\".format(convolutionTrainAccuracy))\n",
        "\n",
        "# Evaluation of Convolution on validation data\n",
        "convolutionValLoss, convolutionValAccuracy = convolutionModel.evaluate(X_val, y_val, verbose=False)\n",
        "print(\"Correctness of the convolutional model on validation data: {:.4f}\".format(convolutionValAccuracy))\n",
        "print(\"Convolutional model loss function on validation data: {:.4f}\".format(convolutionValLoss))\n",
        "\n",
        "# Single layer network trainging\n",
        "singleHistory = singleModel.fit(X_train, y_train, epochs=10, batch_size=10, validation_data=(X_val, y_val), verbose=True)\n",
        "\n",
        "# Evaluation of the single-layer model on the training set\n",
        "singleTrainLoss, singleTrainAccuracy = singleModel.evaluate(X_train, y_train, verbose=False)\n",
        "print(\"Correctness of the single-layer model on training data: {:.4f}\".format(singleTrainAccuracy))\n",
        "\n",
        "# Evaluation of a single-layer model on a validation set\n",
        "singleValLoss, singleValAccuracy = singleModel.evaluate(X_val, y_val, verbose=False)\n",
        "print(\"Correctness of the single-layer model on validation data: {:.4f}\".format(singleValAccuracy))\n",
        "print(\"Loss function of a single-layer model on validation data: {:.4f}\".format(singleValLoss))\n",
        "\n",
        "# Evaluation of the convolutional model on the test set\n",
        "convolutionTestLoss, convolutionTestAccuracy = convolutionModel.evaluate(X_test, y_test, verbose=False)\n",
        "print(\"Correctness of the convolution model on test data: {:.4f}\".format(convolutionTestAccuracy))\n",
        "print(\"Loss function of the convolution model on test data: {:.4f}\".format(convolutionTestLoss))\n",
        "\n",
        "# Evaluation of the single-layer model on the test set\n",
        "singleTestLoss, singleTestAccuracy = singleModel.evaluate(X_test, y_test, verbose=False)\n",
        "print(\"Správnost jednovrstvého modelu na testovacích datech: {:.4f}\".format(singleTrainAccuracy))\n",
        "print(\"Ztrátová funkce jednovrstvého modelu na testovacích datech: {:.4f}\".format(singleTestLoss))\n",
        "\n",
        "\n"
      ]
    }
  ],
  "metadata": {
    "colab": {
      "authorship_tag": "ABX9TyN/Yl70GBrWn2gUIVcRuFIs",
      "include_colab_link": true,
      "provenance": []
    },
    "kernelspec": {
      "display_name": "Python 3",
      "name": "python3"
    },
    "language_info": {
      "codemirror_mode": {
        "name": "ipython",
        "version": 3
      },
      "file_extension": ".py",
      "mimetype": "text/x-python",
      "name": "python",
      "nbconvert_exporter": "python",
      "pygments_lexer": "ipython3",
      "version": "3.10.2"
    }
  },
  "nbformat": 4,
  "nbformat_minor": 0
}
